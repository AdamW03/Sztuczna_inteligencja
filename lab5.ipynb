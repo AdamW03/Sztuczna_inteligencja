{
 "cells": [
  {
   "cell_type": "code",
   "execution_count": 16,
   "id": "813b1fcf-cb77-4b0f-9c89-4935ff3cef6b",
   "metadata": {},
   "outputs": [],
   "source": [
    "import os\n",
    "import requests\n",
    "from dotenv import load_dotenv\n",
    "from bs4 import BeautifulSoup\n",
    "from IPython.display import Markdown, display\n",
    "import ollama"
   ]
  },
  {
   "cell_type": "code",
   "execution_count": 18,
   "id": "ca20cbbf-5cf3-4019-b535-a96fbd783ed0",
   "metadata": {},
   "outputs": [
    {
     "name": "stdout",
     "output_type": "stream",
     "text": [
      "Transformer technology is a fundamental component of modern electrical power systems, and it has revolutionized the way we distribute and use electricity. Here's an overview:\n",
      "\n",
      "**What is a Transformer?**\n",
      "\n",
      "A transformer is an electrical device that transfers electrical energy from one circuit to another through electromagnetic induction. It consists of two coils of wire, called the primary and secondary coils, which are wound around a common core.\n",
      "\n",
      "**How Does it Work?**\n",
      "\n",
      "When an alternating current (AC) flows through the primary coil, it generates a magnetic field. This magnetic field induces a voltage in the secondary coil, which is located on the other side of the core. The transformer can step up or step down the voltage level, making it possible to transmit power over long distances with minimal energy loss.\n",
      "\n",
      "**Key Components:**\n",
      "\n",
      "1. **Primary Coil:** The primary coil receives the high-voltage AC input from the power source.\n",
      "2. **Secondary Coil:** The secondary coil delivers the lower-voltage AC output to the load.\n",
      "3. **Core:** The core is made of a non-conductive material, such as iron or ferrite, and provides a common magnetic path for both coils.\n",
      "\n",
      "**Transformer Types:**\n",
      "\n",
      "1. **Step-Up Transformer:** Increases the voltage level to transmit power over long distances with minimal energy loss.\n",
      "2. **Step-Down Transformer:** Decreases the voltage level to match the requirements of a specific load.\n",
      "3. **Autotransformer:** A type of transformer where the primary and secondary coils share a common path.\n",
      "\n",
      "**Advantages:**\n",
      "\n",
      "1. **Efficient Power Transmission:** Transformers enable efficient power transmission by reducing energy losses due to long-distance transmission.\n",
      "2. **Voltage Regulation:** Transformers can regulate voltage levels, ensuring that the output is stable and consistent.\n",
      "3. **Flexibility:** Transformers can be used to step up or step down voltages, making them versatile in a wide range of applications.\n",
      "\n",
      "**Applications:**\n",
      "\n",
      "1. **Power Grids:** Transformers are essential components of power grids, enabling efficient transmission and distribution of electricity.\n",
      "2. **Industrial Processes:** Transformers are used in various industrial processes, such as manufacturing, oil refining, and chemical processing.\n",
      "3. **Electrical Systems:** Transformers are used in electrical systems, including residential, commercial, and industrial settings.\n",
      "\n",
      "**Challenges:**\n",
      "\n",
      "1. **Energy Losses:** While transformers reduce energy losses due to long-distance transmission, they can still lead to some energy loss during the transformation process.\n",
      "2. **Safety Concerns:** Transformers can pose safety risks if not designed or installed properly, particularly when handling high-voltage electrical systems.\n",
      "\n",
      "In conclusion, transformer technology has revolutionized the way we distribute and use electricity. Its ability to step up or step down voltage levels makes it an essential component of modern power grids and electrical systems.\n"
     ]
    }
   ],
   "source": [
    "message = \"Tell me something about transformer technology\"\n",
    "response = ollama.chat(model='llama3.2', messages=[{\"role\":\"user\", \"content\":message}])\n",
    "print(response['message']['content'])"
   ]
  },
  {
   "cell_type": "code",
   "execution_count": 25,
   "id": "30eb329b-1abc-4506-810a-1ace556e7b42",
   "metadata": {},
   "outputs": [],
   "source": [
    "# Some websites require the use of specific headers when downloading them:\n",
    "headers = {\n",
    "\"User-Agent\": \"Mozilla/5.0 (Windows NT 10.0; Win64; x64) AppleWebKit/537.36 (KHTML, like Gecko) Chrome/117.0.0.0 Safari/537.36\"\n",
    "}\n",
    "\n",
    "# Class representing the web page that will be fetched for summarization.\n",
    "\n",
    "class Website:\n",
    "    def __init__(self, url):\n",
    "        self.url = url\n",
    "        response = requests.get(url, headers=headers)\n",
    "        # We will use the BeautifulSoup library to build an object with content\n",
    "        soup = BeautifulSoup(response.content, 'html.parser')\n",
    "        self.title = soup.title.string if soup.title else \"No title found\"\n",
    "        for irrelevant in soup.body([\"script\", \"style\", \"img\", \"input\", \"link\", \"ul\", \"li\", \"a\"]):\n",
    "            irrelevant.decompose()\n",
    "        self.text = soup.body.get_text(separator=\"\\n\", strip=True)"
   ]
  },
  {
   "cell_type": "code",
   "execution_count": null,
   "id": "b9afe7b1-6e85-4dc9-b989-cda1db513bfb",
   "metadata": {},
   "outputs": [],
   "source": []
  }
 ],
 "metadata": {
  "kernelspec": {
   "display_name": "Python 3 (ipykernel)",
   "language": "python",
   "name": "python3"
  },
  "language_info": {
   "codemirror_mode": {
    "name": "ipython",
    "version": 3
   },
   "file_extension": ".py",
   "mimetype": "text/x-python",
   "name": "python",
   "nbconvert_exporter": "python",
   "pygments_lexer": "ipython3",
   "version": "3.12.9"
  }
 },
 "nbformat": 4,
 "nbformat_minor": 5
}
