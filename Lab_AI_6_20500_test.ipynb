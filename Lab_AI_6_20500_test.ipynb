{
 "cells": [
  {
   "cell_type": "code",
   "execution_count": 1,
   "id": "7d38bc28-75b1-43ee-a2b6-6234f405290d",
   "metadata": {},
   "outputs": [
    {
     "name": "stdout",
     "output_type": "stream",
     "text": [
      "Serwer Ollama odpowiada: {\"version\":\"0.6.8\"}\n",
      "Dostępne modele: models=[Model(model='deepseek-r1:8b', modified_at=datetime.datetime(2025, 6, 9, 0, 58, 29, 745696, tzinfo=TzInfo(+02:00)), digest='6995872bfe4c521a67b32da386cd21d5c6e819b6e0d62f79f64ec83be99f5763', size=5225376047, details=ModelDetails(parent_model='', format='gguf', family='qwen3', families=['qwen3'], parameter_size='8.2B', quantization_level='Q4_K_M')), Model(model='wizardlm2:7b', modified_at=datetime.datetime(2025, 5, 20, 10, 3, 9, 84945, tzinfo=TzInfo(+02:00)), digest='c9b1aff820f245a43b1719b296ce7131746073691cbb56f7a8d88a4713a3df79', size=4108928625, details=ModelDetails(parent_model='', format='gguf', family='llama', families=['llama'], parameter_size='7B', quantization_level='Q4_0')), Model(model='deepseek-r1:14b', modified_at=datetime.datetime(2025, 5, 13, 21, 38, 16, 738754, tzinfo=TzInfo(+02:00)), digest='ea35dfe18182f635ee2b214ea30b7520fe1ada68da018f8b395b444b662d4f1a', size=8988112040, details=ModelDetails(parent_model='', format='gguf', family='qwen2', families=['qwen2'], parameter_size='14.8B', quantization_level='Q4_K_M')), Model(model='qwen3:32b', modified_at=datetime.datetime(2025, 5, 13, 21, 32, 44, 550908, tzinfo=TzInfo(+02:00)), digest='e1c9f234c6eb37545e991032e3d674e0762763cddab4e69009a2f0d8739deaaf', size=20201253588, details=ModelDetails(parent_model='', format='gguf', family='qwen3', families=['qwen3'], parameter_size='32.8B', quantization_level='Q4_K_M')), Model(model='llama3.2:latest', modified_at=datetime.datetime(2025, 5, 13, 21, 6, 43, 877763, tzinfo=TzInfo(+02:00)), digest='a80c4f17acd55265feec403c7aef86be0c25983ab279d83f3bcd3abbcb5b8b72', size=2019393189, details=ModelDetails(parent_model='', format='gguf', family='llama', families=['llama'], parameter_size='3.2B', quantization_level='Q4_K_M'))]\n"
     ]
    }
   ],
   "source": [
    "import ollama\n",
    "import requests\n",
    "import sys\n",
    "\n",
    "# Sprawdź dostępność serwera najpierw przez requests\n",
    "try:\n",
    "    response = requests.get(\"http://localhost:11434/api/version\", timeout=5)\n",
    "    print(f\"Serwer Ollama odpowiada: {response.text}\")\n",
    "except Exception as e:\n",
    "    print(f\"Nie można połączyć się z serwerem Ollama: {e}\")\n",
    "    print(\"Upewnij się, że Ollama jest uruchomiona komendą: ollama serve\")\n",
    "    sys.exit(1)\n",
    "\n",
    "# Spróbuj użyć klienta ollama\n",
    "try:\n",
    "    client = ollama.Client(host='http://localhost:11434')\n",
    "    models = client.list()\n",
    "    print(f\"Dostępne modele: {models}\")\n",
    "except Exception as e:\n",
    "    print(f\"Błąd podczas używania klienta ollama: {e}\")"
   ]
  },
  {
   "cell_type": "code",
   "execution_count": null,
   "id": "370e1cff-6493-432a-9bbf-b0bbcdee9572",
   "metadata": {},
   "outputs": [],
   "source": []
  }
 ],
 "metadata": {
  "kernelspec": {
   "display_name": "Python 3 (ipykernel)",
   "language": "python",
   "name": "python3"
  },
  "language_info": {
   "codemirror_mode": {
    "name": "ipython",
    "version": 3
   },
   "file_extension": ".py",
   "mimetype": "text/x-python",
   "name": "python",
   "nbconvert_exporter": "python",
   "pygments_lexer": "ipython3",
   "version": "3.12.9"
  }
 },
 "nbformat": 4,
 "nbformat_minor": 5
}
